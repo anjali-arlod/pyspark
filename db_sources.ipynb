{
 "cells": [
  {
   "cell_type": "code",
   "execution_count": 1,
   "id": "e8a3c8e5-77a4-4ec7-bb58-718b85f2e808",
   "metadata": {},
   "outputs": [],
   "source": [
    "from pyspark.sql import SparkSession"
   ]
  },
  {
   "cell_type": "code",
   "execution_count": 2,
   "id": "cf381ce4-e347-4dfb-b75e-d6b3db29dab4",
   "metadata": {},
   "outputs": [],
   "source": [
    "spark = SparkSession.builder \\\n",
    "        .master(\"local[*]\") \\\n",
    "        .appName(\"IMPORTING_CSV\") \\\n",
    "        .getOrCreate()"
   ]
  },
  {
   "cell_type": "code",
   "execution_count": 27,
   "id": "33848656-94df-4474-b7fb-06d928612db9",
   "metadata": {},
   "outputs": [],
   "source": [
    "people = spark.read.format(\"csv\")\\\n",
    "        .option(\"header\",\"true\") \\\n",
    "        .option(\"path\", \"csv_files/mall_customers.csv\")\\\n",
    "        .load()"
   ]
  },
  {
   "cell_type": "code",
   "execution_count": 28,
   "id": "ec6d5958-504f-42aa-b10d-49fc3266b7b9",
   "metadata": {},
   "outputs": [
    {
     "name": "stdout",
     "output_type": "stream",
     "text": [
      "+----------+------+----+-------------+--------------+\n",
      "|CustomerID|Gender| Age|Annual_Income|Spending_Score|\n",
      "+----------+------+----+-------------+--------------+\n",
      "|         1|  Male|  19|           15|            39|\n",
      "|         2|  Male|  21|           15|            81|\n",
      "|         3|Female|NULL|           16|             6|\n",
      "|         4|Female|  23|           16|            77|\n",
      "|         5|Female|  31|           17|            40|\n",
      "|         6|Female|  22|           17|            76|\n",
      "|         7|Female|  35|           18|             6|\n",
      "|         8|Female|  23|           18|            94|\n",
      "|         9|  Male|  64|           19|             3|\n",
      "|        10|Female|  30|           19|            72|\n",
      "|        11|  Male|  67|           19|            14|\n",
      "|        12|Female|  35|           19|            99|\n",
      "|        13|Female|  58|           20|            15|\n",
      "|        14|Female|  24|           20|            77|\n",
      "|        15|  Male|  37|           20|            13|\n",
      "|        16|  Male|  22|           20|            79|\n",
      "|        17|Female|  35|           21|            35|\n",
      "|        18|  Male|  20|           21|            66|\n",
      "|        19|  Male|  52|           23|            29|\n",
      "|        20|Female|  35|           23|            98|\n",
      "+----------+------+----+-------------+--------------+\n",
      "only showing top 20 rows\n",
      "\n"
     ]
    }
   ],
   "source": [
    "people.show()"
   ]
  },
  {
   "cell_type": "markdown",
   "id": "e6da194c-d3d4-41bf-bed9-009f5f147926",
   "metadata": {},
   "source": [
    "### here, it just creates DAG and instantiates the path of execution but not actual transformations, since it is lazily evaluated"
   ]
  },
  {
   "cell_type": "code",
   "execution_count": 29,
   "id": "b8132348-998c-4685-91c2-b452750e9a69",
   "metadata": {},
   "outputs": [],
   "source": [
    "output = people.select(people.Age).orderBy(people.Spending_Score) "
   ]
  },
  {
   "cell_type": "code",
   "execution_count": 31,
   "id": "4c92facd-a3f8-42d5-91c2-e399c0e59af6",
   "metadata": {},
   "outputs": [
    {
     "data": {
      "text/plain": [
       "200"
      ]
     },
     "execution_count": 31,
     "metadata": {},
     "output_type": "execute_result"
    }
   ],
   "source": [
    "output.count()"
   ]
  },
  {
   "cell_type": "code",
   "execution_count": 32,
   "id": "bdce4fdc-cd1b-4eed-8cbc-7cee5171e1e0",
   "metadata": {},
   "outputs": [
    {
     "name": "stdout",
     "output_type": "stream",
     "text": [
      "+---+\n",
      "|Age|\n",
      "+---+\n",
      "| 37|\n",
      "| 34|\n",
      "| 19|\n",
      "| 36|\n",
      "| 59|\n",
      "| 25|\n",
      "| 37|\n",
      "| 40|\n",
      "| 52|\n",
      "| 67|\n",
      "| 54|\n",
      "| 49|\n",
      "| 59|\n",
      "| 58|\n",
      "| 58|\n",
      "| 46|\n",
      "| 47|\n",
      "| 47|\n",
      "| 42|\n",
      "| 43|\n",
      "+---+\n",
      "only showing top 20 rows\n",
      "\n"
     ]
    }
   ],
   "source": [
    "output.show()"
   ]
  },
  {
   "cell_type": "code",
   "execution_count": 33,
   "id": "cef0415b-ca9c-419a-8303-1a4115a778da",
   "metadata": {},
   "outputs": [],
   "source": [
    "## creating temporary view\n",
    "output.createOrReplaceTempView(\"peopless\")"
   ]
  },
  {
   "cell_type": "code",
   "execution_count": 35,
   "id": "f8b9bb3c-1827-4e0f-af3a-da9136025ea7",
   "metadata": {},
   "outputs": [
    {
     "name": "stdout",
     "output_type": "stream",
     "text": [
      "+---+\n",
      "|Age|\n",
      "+---+\n",
      "| 37|\n",
      "| 34|\n",
      "| 19|\n",
      "| 36|\n",
      "| 59|\n",
      "| 25|\n",
      "| 37|\n",
      "| 40|\n",
      "| 52|\n",
      "| 67|\n",
      "| 54|\n",
      "| 49|\n",
      "| 59|\n",
      "| 58|\n",
      "| 58|\n",
      "| 46|\n",
      "| 47|\n",
      "| 47|\n",
      "| 42|\n",
      "| 43|\n",
      "+---+\n",
      "only showing top 20 rows\n",
      "\n"
     ]
    }
   ],
   "source": [
    "spark.sql(\"select * from peopless\").show()"
   ]
  },
  {
   "cell_type": "markdown",
   "id": "3b60541f-857b-4421-9f2a-4fd278406ab7",
   "metadata": {},
   "source": [
    "### DataFrame Reader"
   ]
  },
  {
   "cell_type": "code",
   "execution_count": 38,
   "id": "2e532c38-946c-4985-9e9d-41d955c8a333",
   "metadata": {},
   "outputs": [],
   "source": [
    "from pyspark.sql.types import StructType,StructField,IntegerType,StringType\n",
    "\n",
    "myschema = StructType([\n",
    "    StructField(\"userID\", IntegerType(), True),\n",
    "    StructField(\"name\", StringType(), True),\n",
    "    StructField(\"age\", IntegerType(), True),\n",
    "    StructField(\"friends\", IntegerType(), True)])\n",
    "    "
   ]
  },
  {
   "cell_type": "code",
   "execution_count": 40,
   "id": "40515e58-feee-4ec6-823c-e215d440d80c",
   "metadata": {},
   "outputs": [],
   "source": [
    "friends = spark.read.format(\"csv\")\\\n",
    "        .schema(myschema)\\\n",
    "        .option(\"header\",\"true\") \\\n",
    "        .option(\"path\", \"csv_files/mall_customers.csv\")\\\n",
    "        .load()"
   ]
  },
  {
   "cell_type": "code",
   "execution_count": 41,
   "id": "82078311-6e86-4904-bace-900fe970ad98",
   "metadata": {},
   "outputs": [
    {
     "name": "stdout",
     "output_type": "stream",
     "text": [
      "root\n",
      " |-- userID: integer (nullable = true)\n",
      " |-- name: string (nullable = true)\n",
      " |-- age: integer (nullable = true)\n",
      " |-- friends: integer (nullable = true)\n",
      "\n"
     ]
    }
   ],
   "source": [
    "friends.printSchema()"
   ]
  },
  {
   "cell_type": "markdown",
   "id": "d9f8cc36-1947-4c50-9cb5-f579709976ce",
   "metadata": {},
   "source": [
    "### DataFrame Writer\n",
    "It saves or writes data to a specific datasource"
   ]
  },
  {
   "cell_type": "code",
   "execution_count": 47,
   "id": "e4755a96-3c54-4b35-b481-36913753744c",
   "metadata": {},
   "outputs": [],
   "source": [
    "import pyspark.sql.functions as func\n",
    "from pyspark.sql.functions import col\n",
    "\n",
    "output = friends.select(\"*\").where(col(\"age\")>30).withColumn('insert_ts', func.current_timestamp()) \\\n",
    "    .orderBy(col(\"userID\")).cache()"
   ]
  },
  {
   "cell_type": "code",
   "execution_count": null,
   "id": "82c62bd3-fa7d-40a1-87b7-be20df825346",
   "metadata": {},
   "outputs": [],
   "source": [
    "output.write\\\n",
    ".format(\"csv\")\\\n",
    ".option(\"path\",\"file:///data_sources/output_files/\")\\\n",
    ".partitionBy(\"age\")\\\n",
    ".save()"
   ]
  },
  {
   "cell_type": "code",
   "execution_count": 53,
   "id": "aa195a2f-083e-4b10-bab1-a6b61db764be",
   "metadata": {},
   "outputs": [
    {
     "name": "stdout",
     "output_type": "stream",
     "text": [
      "/home/dev/release\n"
     ]
    }
   ],
   "source": [
    "!pwd"
   ]
  },
  {
   "cell_type": "code",
   "execution_count": null,
   "id": "06acd348-a661-4de5-b720-49e7c6a25374",
   "metadata": {},
   "outputs": [],
   "source": []
  }
 ],
 "metadata": {
  "kernelspec": {
   "display_name": "Python 3 (ipykernel)",
   "language": "python",
   "name": "python3"
  },
  "language_info": {
   "codemirror_mode": {
    "name": "ipython",
    "version": 3
   },
   "file_extension": ".py",
   "mimetype": "text/x-python",
   "name": "python",
   "nbconvert_exporter": "python",
   "pygments_lexer": "ipython3",
   "version": "3.11.6"
  }
 },
 "nbformat": 4,
 "nbformat_minor": 5
}
