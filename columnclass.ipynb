{
 "cells": [
  {
   "cell_type": "code",
   "execution_count": 2,
   "id": "f364dd37-8ac8-4de0-a681-f074023db86e",
   "metadata": {},
   "outputs": [],
   "source": [
    "from pyspark.sql.functions import lit\n",
    "# adds constant or literal values as a new column to the dataframe - takes a literal value and returns a column object\n",
    "import pyspark\n",
    "from pyspark.sql import SparkSession\n",
    "from pyspark.sql.functions import col, udf\n",
    "from pyspark.sql.types import StringType\n",
    "\n",
    "spark = SparkSession.builder.appName('COLUMNCLASS').getOrCreate()"
   ]
  },
  {
   "cell_type": "code",
   "execution_count": 3,
   "id": "0c1bd7f0-136d-427d-b7c8-ad339b483b16",
   "metadata": {},
   "outputs": [
    {
     "name": "stdout",
     "output_type": "stream",
     "text": [
      "root\n",
      " |-- _1: string (nullable = true)\n",
      " |-- _2: long (nullable = true)\n",
      "\n",
      "+-----+---+\n",
      "|   _1| _2|\n",
      "+-----+---+\n",
      "|James| 23|\n",
      "|  Ann| 40|\n",
      "+-----+---+\n",
      "\n"
     ]
    }
   ],
   "source": [
    "data=[(\"James\",23),(\"Ann\",40)]\n",
    "df1=spark.createDataFrame(data)\n",
    "df1.printSchema()\n",
    "df1.show()"
   ]
  },
  {
   "cell_type": "markdown",
   "id": "01a38777-5119-4c06-a0f5-1d3f2922a9cf",
   "metadata": {},
   "source": [
    "### converting default dataframe to Dataframe with column names"
   ]
  },
  {
   "cell_type": "code",
   "execution_count": 5,
   "id": "fac6f1e5-9055-4998-88ae-5f196c60666b",
   "metadata": {},
   "outputs": [
    {
     "name": "stdout",
     "output_type": "stream",
     "text": [
      "root\n",
      " |-- name: string (nullable = true)\n",
      " |-- age: long (nullable = true)\n",
      "\n",
      "+-----+---+\n",
      "| name|age|\n",
      "+-----+---+\n",
      "|James| 23|\n",
      "|  Ann| 40|\n",
      "+-----+---+\n",
      "\n"
     ]
    }
   ],
   "source": [
    "df2=spark.createDataFrame(data).toDF(\"name\",\"age\")  \n",
    "df2.printSchema()\n",
    "df2.show()"
   ]
  },
  {
   "cell_type": "markdown",
   "id": "2b9b317f-38c1-4538-bafd-60b092a5772f",
   "metadata": {},
   "source": [
    "### Accessing columns"
   ]
  },
  {
   "cell_type": "code",
   "execution_count": 10,
   "id": "e9029fa1-d297-4dcd-8d38-5b6897b66917",
   "metadata": {},
   "outputs": [
    {
     "name": "stdout",
     "output_type": "stream",
     "text": [
      "+---+\n",
      "|age|\n",
      "+---+\n",
      "| 23|\n",
      "| 40|\n",
      "+---+\n",
      "\n",
      "+-----+\n",
      "| name|\n",
      "+-----+\n",
      "|James|\n",
      "|  Ann|\n",
      "+-----+\n",
      "\n",
      "+---+\n",
      "|age|\n",
      "+---+\n",
      "| 23|\n",
      "| 40|\n",
      "+---+\n",
      "\n",
      "+-----+\n",
      "| name|\n",
      "+-----+\n",
      "|James|\n",
      "|  Ann|\n",
      "+-----+\n",
      "\n"
     ]
    }
   ],
   "source": [
    "df2.select(df2[\"age\"]).show()\n",
    "df2.select(df2[\"`name`\"]).show()\n",
    "from pyspark.sql.functions import col\n",
    "\n",
    "df2.select(col(\"age\")).show()"
   ]
  },
  {
   "cell_type": "markdown",
   "id": "cd0316ab-033c-41d4-b4a1-903ae3f24100",
   "metadata": {},
   "source": [
    "### creating data with row class"
   ]
  },
  {
   "cell_type": "code",
   "execution_count": 11,
   "id": "0d35a7cf-1e33-499d-8b20-a140f9d4eeeb",
   "metadata": {},
   "outputs": [
    {
     "name": "stdout",
     "output_type": "stream",
     "text": [
      "root\n",
      " |-- name: string (nullable = true)\n",
      " |-- prop: struct (nullable = true)\n",
      " |    |-- hair: string (nullable = true)\n",
      " |    |-- eye: string (nullable = true)\n",
      "\n",
      "+-----+-------------+\n",
      "| name|         prop|\n",
      "+-----+-------------+\n",
      "|James|{black, blue}|\n",
      "|  Ann|{grey, black}|\n",
      "+-----+-------------+\n",
      "\n"
     ]
    }
   ],
   "source": [
    "from pyspark.sql import Row\n",
    "data=[Row(name=\"James\",prop=Row(hair=\"black\",eye=\"blue\")),\n",
    "      Row(name=\"Ann\",prop=Row(hair=\"grey\",eye=\"black\"))]\n",
    "dataframe=spark.createDataFrame(data)\n",
    "dataframe.printSchema()\n",
    "dataframe.show()"
   ]
  },
  {
   "cell_type": "markdown",
   "id": "e202c0e4-7f54-4630-b6ed-4e6c4c8d954e",
   "metadata": {},
   "source": [
    "### accessing strcutType columns"
   ]
  },
  {
   "cell_type": "code",
   "execution_count": 13,
   "id": "73299326-46a7-4912-be8b-65cc091f466c",
   "metadata": {},
   "outputs": [
    {
     "name": "stdout",
     "output_type": "stream",
     "text": [
      "+---------+\n",
      "|prop.hair|\n",
      "+---------+\n",
      "|    black|\n",
      "|     grey|\n",
      "+---------+\n",
      "\n",
      "+-----+\n",
      "| hair|\n",
      "+-----+\n",
      "|black|\n",
      "| grey|\n",
      "+-----+\n",
      "\n",
      "+-----+\n",
      "| hair|\n",
      "+-----+\n",
      "|black|\n",
      "| grey|\n",
      "+-----+\n",
      "\n",
      "+-----+-----+\n",
      "| hair|  eye|\n",
      "+-----+-----+\n",
      "|black| blue|\n",
      "| grey|black|\n",
      "+-----+-----+\n",
      "\n",
      "+-------------+\n",
      "|         prop|\n",
      "+-------------+\n",
      "|{black, blue}|\n",
      "|{grey, black}|\n",
      "+-------------+\n",
      "\n"
     ]
    }
   ],
   "source": [
    "dataframe.select(dataframe.prop.hair).show()\n",
    "dataframe.select(dataframe[\"prop.hair\"]).show()\n",
    "dataframe.select(col(\"prop.hair\")).show()\n",
    "dataframe.select(col(\"prop.*\")).show()\n",
    "dataframe.select(col(\"prop\")).show()"
   ]
  },
  {
   "cell_type": "code",
   "execution_count": 15,
   "id": "3ed3fa91-c95a-4893-98d8-ddd6be8e0ff8",
   "metadata": {},
   "outputs": [
    {
     "name": "stdout",
     "output_type": "stream",
     "text": [
      "+----+----+----+\n",
      "|col1|col2|col3|\n",
      "+----+----+----+\n",
      "| 100|   2|   1|\n",
      "| 400|   3|   4|\n",
      "| 300|   4|   4|\n",
      "+----+----+----+\n",
      "\n"
     ]
    }
   ],
   "source": [
    "data=[(100,2,1),(400,3,4),(300,4,4)]\n",
    "df3=spark.createDataFrame(data).toDF(\"col1\",\"col2\",\"col3\")\n",
    "df3.show()"
   ]
  },
  {
   "cell_type": "markdown",
   "id": "54c0e3c7-2ec1-4692-96bf-6a2e219f3593",
   "metadata": {},
   "source": [
    "### column operators"
   ]
  },
  {
   "cell_type": "code",
   "execution_count": 16,
   "id": "ec92fb05-caf7-4f45-94c4-44d2f17f0082",
   "metadata": {},
   "outputs": [
    {
     "name": "stdout",
     "output_type": "stream",
     "text": [
      "+-------------+\n",
      "|(col1 + col2)|\n",
      "+-------------+\n",
      "|          102|\n",
      "|          403|\n",
      "|          304|\n",
      "+-------------+\n",
      "\n",
      "+-------------+\n",
      "|(col1 - col2)|\n",
      "+-------------+\n",
      "|           98|\n",
      "|          397|\n",
      "|          296|\n",
      "+-------------+\n",
      "\n",
      "+-------------+\n",
      "|(col2 > col3)|\n",
      "+-------------+\n",
      "|         true|\n",
      "|        false|\n",
      "|        false|\n",
      "+-------------+\n",
      "\n"
     ]
    }
   ],
   "source": [
    "df3.select(df3.col1 + df3.col2 ).show()\n",
    "df3.select(df3.col1 - df3.col2).show()\n",
    "df3.select(df3.col2 > df3.col3).show()"
   ]
  },
  {
   "cell_type": "markdown",
   "id": "d45c69da-87ac-429e-8133-0371ca0602bf",
   "metadata": {},
   "source": [
    "### alias() & name() - both are for changing the column name"
   ]
  },
  {
   "cell_type": "code",
   "execution_count": 24,
   "id": "62d7a32f-1db9-4c11-ad3f-d8db971a6273",
   "metadata": {},
   "outputs": [
    {
     "name": "stdout",
     "output_type": "stream",
     "text": [
      "+------+----+------------+\n",
      "|newcol|col3|10multiplies|\n",
      "+------+----+------------+\n",
      "|     2|   1|         100|\n",
      "|     3|   4|         400|\n",
      "|     4|   4|         300|\n",
      "+------+----+------------+\n",
      "\n"
     ]
    }
   ],
   "source": [
    "\n",
    "df4 = df3.select(col(\"col2\").name(\"newcol\"), col(\"col3\"), col(\"col1\").alias(\"10multiplies\"))\n",
    "df4.show()"
   ]
  },
  {
   "cell_type": "markdown",
   "id": "3b228bea-2801-43df-8f39-96684b0e57e5",
   "metadata": {},
   "source": [
    "### orderBy()"
   ]
  },
  {
   "cell_type": "code",
   "execution_count": 25,
   "id": "fac9afd4-cff0-4d0f-82d1-71616979d2d8",
   "metadata": {},
   "outputs": [
    {
     "name": "stdout",
     "output_type": "stream",
     "text": [
      "+------+----+------------+\n",
      "|newcol|col3|10multiplies|\n",
      "+------+----+------------+\n",
      "|     2|   1|         100|\n",
      "|     4|   4|         300|\n",
      "|     3|   4|         400|\n",
      "+------+----+------------+\n",
      "\n"
     ]
    }
   ],
   "source": [
    "df4.orderBy(col(\"10multiplies\")).show()"
   ]
  },
  {
   "cell_type": "code",
   "execution_count": 26,
   "id": "d9536848-23cd-4db0-9ea3-da6a02eb1d44",
   "metadata": {},
   "outputs": [
    {
     "name": "stdout",
     "output_type": "stream",
     "text": [
      "+----------+----+------+\n",
      "|      name| age|salary|\n",
      "+----------+----+------+\n",
      "|John Smith|  30|     1|\n",
      "|      Jane|  25|     2|\n",
      "| Bob Smith|  35|    25|\n",
      "|       Tom|NULL|     3|\n",
      "+----------+----+------+\n",
      "\n"
     ]
    }
   ],
   "source": [
    "from pyspark.sql.types import StringType, IntegerType\n",
    "\n",
    "data = [(\"John Smith\", 30, 1), (\"Jane\", 25, 2), (\"Bob Smith\", 35, 25), (\"Tom\", None, 3)]\n",
    "columns = [\"name\", \"age\", \"salary\"]\n",
    "\n",
    "dataframe1 = spark.createDataFrame(data, columns)\n",
    "dataframe1.show()"
   ]
  },
  {
   "cell_type": "code",
   "execution_count": 27,
   "id": "438b37d9-7d6d-4aee-95fa-0cda6640ca31",
   "metadata": {},
   "outputs": [
    {
     "name": "stdout",
     "output_type": "stream",
     "text": [
      "+----------+----+------+\n",
      "|      name| age|salary|\n",
      "+----------+----+------+\n",
      "|John Smith|  30|     1|\n",
      "|      Jane|  25|     2|\n",
      "| Bob Smith|  35|    25|\n",
      "|       Tom|NULL|     3|\n",
      "+----------+----+------+\n",
      "\n",
      "root\n",
      " |-- name: string (nullable = true)\n",
      " |-- age: integer (nullable = true)\n",
      " |-- salary: long (nullable = true)\n",
      "\n"
     ]
    }
   ],
   "source": [
    "dataframe1 = dataframe1.withColumn(\"age\", col(\"age\").cast(IntegerType()))\n",
    "dataframe1.show()\n",
    "dataframe1.printSchema()"
   ]
  },
  {
   "cell_type": "markdown",
   "id": "c55c0131-a295-4ea9-97ec-014fefaabfbe",
   "metadata": {},
   "source": [
    "### contains() - gives boolean value, checking the value is present in the column or not\n"
   ]
  },
  {
   "cell_type": "code",
   "execution_count": 22,
   "id": "a0c84d65-2d6c-4f7d-a46e-ebe9e3f3f1ed",
   "metadata": {},
   "outputs": [
    {
     "name": "stdout",
     "output_type": "stream",
     "text": [
      "+----------+----+------+--------+\n",
      "|      name| age|salary|contains|\n",
      "+----------+----+------+--------+\n",
      "|John Smith|  30|     1|    true|\n",
      "|      Jane|  25|     2|   false|\n",
      "| Bob Smith|  35|    25|    true|\n",
      "|       Tom|NULL|     3|   false|\n",
      "+----------+----+------+--------+\n",
      "\n"
     ]
    }
   ],
   "source": [
    "df_contains = dataframe1.withColumn(\"contains\", col(\"name\").contains(\"Smith\"))\n",
    "df_contains.show()"
   ]
  },
  {
   "cell_type": "markdown",
   "id": "528761a0-0017-4c2b-a6cd-9fcf51c2a5b8",
   "metadata": {},
   "source": [
    "### eqNullSafe() - gives boolean value checking the value is equal to the given column value\n"
   ]
  },
  {
   "cell_type": "code",
   "execution_count": 23,
   "id": "103dfc18-2b29-4059-8edb-7ba234aa6d9b",
   "metadata": {},
   "outputs": [
    {
     "name": "stdout",
     "output_type": "stream",
     "text": [
      "+----------+----+------+------------------+\n",
      "|      name| age|salary|is_age_equal_to_30|\n",
      "+----------+----+------+------------------+\n",
      "|John Smith|  30|     1|             false|\n",
      "|      Jane|  25|     2|              true|\n",
      "| Bob Smith|  35|    25|             false|\n",
      "|       Tom|NULL|     3|             false|\n",
      "+----------+----+------+------------------+\n",
      "\n"
     ]
    }
   ],
   "source": [
    "df_comparison = dataframe1.withColumn(\"is_age_equal_to_30\", col(\"age\").eqNullSafe(25))\n",
    "df_comparison.show()"
   ]
  },
  {
   "cell_type": "markdown",
   "id": "d93d4154-61c0-4c4f-ba31-fff2c002d38e",
   "metadata": {},
   "source": [
    "### cast / astype - for changing datatype of the column"
   ]
  },
  {
   "cell_type": "code",
   "execution_count": 28,
   "id": "6458c844-a545-4f69-abf8-adb478be87c0",
   "metadata": {},
   "outputs": [
    {
     "name": "stdout",
     "output_type": "stream",
     "text": [
      "root\n",
      " |-- name: string (nullable = true)\n",
      " |-- age: integer (nullable = true)\n",
      " |-- salary: integer (nullable = true)\n",
      "\n"
     ]
    }
   ],
   "source": [
    "dataframe1 = dataframe1.withColumn(\"salary\", col(\"salary\").cast(IntegerType()))\n",
    "dataframe1.printSchema()"
   ]
  },
  {
   "cell_type": "markdown",
   "id": "3f075a55-35a3-488f-b1b1-e4caa6d9ce8c",
   "metadata": {},
   "source": [
    "### bitwiseAND"
   ]
  },
  {
   "cell_type": "code",
   "execution_count": 29,
   "id": "db0b0d8f-3e82-45f2-b904-2afa450d6073",
   "metadata": {},
   "outputs": [
    {
     "name": "stdout",
     "output_type": "stream",
     "text": [
      "+----------+----+------+-----------+\n",
      "|      name| age|salary|bitwise AND|\n",
      "+----------+----+------+-----------+\n",
      "|John Smith|  30|     1|          0|\n",
      "|      Jane|  25|     2|          0|\n",
      "| Bob Smith|  35|    25|          1|\n",
      "|       Tom|NULL|     3|       NULL|\n",
      "+----------+----+------+-----------+\n",
      "\n"
     ]
    }
   ],
   "source": [
    "dataframe3 = dataframe1.withColumn(\"bitwise AND\", col(\"age\").bitwiseAND(col(\"salary\")))\n",
    "dataframe3.show()"
   ]
  },
  {
   "cell_type": "markdown",
   "id": "ee80db67-1309-4d10-819c-d79b02b7f829",
   "metadata": {},
   "source": [
    "### startswith() - gives boolean if the column value startstwith the given value"
   ]
  },
  {
   "cell_type": "code",
   "execution_count": 31,
   "id": "19043922-63b3-466c-b348-0fb7050646be",
   "metadata": {},
   "outputs": [
    {
     "name": "stdout",
     "output_type": "stream",
     "text": [
      "+----------+----+------+----------+\n",
      "|      name| age|salary|startswith|\n",
      "+----------+----+------+----------+\n",
      "|John Smith|  30|     1|      true|\n",
      "|      Jane|  25|     2|     false|\n",
      "| Bob Smith|  35|    25|     false|\n",
      "|       Tom|NULL|     3|     false|\n",
      "+----------+----+------+----------+\n",
      "\n"
     ]
    }
   ],
   "source": [
    "dataframe_startswith = dataframe1.withColumn(\"startswith\", col(\"name\").startswith(\"John\"))\n",
    "dataframe_startswith.show()"
   ]
  },
  {
   "cell_type": "markdown",
   "id": "34552866-0fc8-4624-b994-6b3cb8cd663c",
   "metadata": {},
   "source": [
    "### endswith() - gives boolean if the column value ends with the given value"
   ]
  },
  {
   "cell_type": "code",
   "execution_count": 32,
   "id": "90761eb6-f1b6-4c0e-a2ca-ac1396f4613f",
   "metadata": {},
   "outputs": [
    {
     "name": "stdout",
     "output_type": "stream",
     "text": [
      "+----------+----+------+--------+\n",
      "|      name| age|salary|endswith|\n",
      "+----------+----+------+--------+\n",
      "|John Smith|  30|     1|    true|\n",
      "|      Jane|  25|     2|   false|\n",
      "| Bob Smith|  35|    25|    true|\n",
      "|       Tom|NULL|     3|   false|\n",
      "+----------+----+------+--------+\n",
      "\n"
     ]
    }
   ],
   "source": [
    "dataframe_endswith = dataframe1.withColumn(\"endswith\", col(\"name\").endswith(\"ith\"))\n",
    "dataframe_endswith.show()"
   ]
  },
  {
   "cell_type": "markdown",
   "id": "563a16fc-4e11-4bbe-977f-d42eb87d9626",
   "metadata": {},
   "source": [
    "### desc() and asc() "
   ]
  },
  {
   "cell_type": "code",
   "execution_count": 35,
   "id": "ae890084-a00c-4587-8b88-70842f006978",
   "metadata": {},
   "outputs": [
    {
     "name": "stdout",
     "output_type": "stream",
     "text": [
      "+----------+----+------+\n",
      "|      name| age|salary|\n",
      "+----------+----+------+\n",
      "| Bob Smith|  35|    25|\n",
      "|John Smith|  30|     1|\n",
      "|      Jane|  25|     2|\n",
      "|       Tom|NULL|     3|\n",
      "+----------+----+------+\n",
      "\n",
      "+----------+----+------+\n",
      "|      name| age|salary|\n",
      "+----------+----+------+\n",
      "|John Smith|  30|     1|\n",
      "|      Jane|  25|     2|\n",
      "|       Tom|NULL|     3|\n",
      "| Bob Smith|  35|    25|\n",
      "+----------+----+------+\n",
      "\n"
     ]
    }
   ],
   "source": [
    "dataframe1.orderBy(col(\"age\").desc()).show()  \n",
    "dataframe1.orderBy(col(\"salary\")).show()  "
   ]
  },
  {
   "cell_type": "markdown",
   "id": "990508c0-6270-4993-9e9d-6c371006316b",
   "metadata": {},
   "source": [
    "### name()"
   ]
  },
  {
   "cell_type": "code",
   "execution_count": 36,
   "id": "13715472-abb4-4227-a710-f89b1d5b81fe",
   "metadata": {},
   "outputs": [
    {
     "name": "stdout",
     "output_type": "stream",
     "text": [
      "+----------+----------+------+\n",
      "|      name|sorted_age|salary|\n",
      "+----------+----------+------+\n",
      "|John Smith|        30|     1|\n",
      "|      Jane|        25|     2|\n",
      "| Bob Smith|        35|    25|\n",
      "|       Tom|      NULL|     3|\n",
      "+----------+----------+------+\n",
      "\n",
      "root\n",
      " |-- name: string (nullable = true)\n",
      " |-- sorted_age: integer (nullable = true)\n",
      " |-- salary: integer (nullable = true)\n",
      "\n"
     ]
    }
   ],
   "source": [
    "dataframe2 = dataframe1.select(\"name\", col(\"age\").name(\"sorted_age\"), \"salary\")\n",
    "dataframe2.show()\n",
    "dataframe2.printSchema()"
   ]
  },
  {
   "cell_type": "markdown",
   "id": "d7365dea-6369-4f57-a9da-9d1796a03e15",
   "metadata": {},
   "source": [
    "###  ascending order showing null values in the sarting rows"
   ]
  },
  {
   "cell_type": "code",
   "execution_count": 37,
   "id": "53c48953-7742-472d-ad90-319a0b7b917f",
   "metadata": {},
   "outputs": [
    {
     "name": "stdout",
     "output_type": "stream",
     "text": [
      "+----------+----+------+\n",
      "|      name| age|salary|\n",
      "+----------+----+------+\n",
      "|       Tom|NULL|     3|\n",
      "|      Jane|  25|     2|\n",
      "|John Smith|  30|     1|\n",
      "| Bob Smith|  35|    25|\n",
      "+----------+----+------+\n",
      "\n"
     ]
    }
   ],
   "source": [
    "dataframe1.orderBy(col(\"age\").asc_nulls_first()).show()  "
   ]
  },
  {
   "cell_type": "markdown",
   "id": "9b2c373b-b4c5-4d56-b113-c5fe2a88b67f",
   "metadata": {},
   "source": [
    "###  ascending order showing null values in the last rows"
   ]
  },
  {
   "cell_type": "code",
   "execution_count": 38,
   "id": "4eb69187-8bd2-498b-ba77-f60729bf0aa6",
   "metadata": {},
   "outputs": [
    {
     "name": "stdout",
     "output_type": "stream",
     "text": [
      "+----------+----+------+\n",
      "|      name| age|salary|\n",
      "+----------+----+------+\n",
      "|      Jane|  25|     2|\n",
      "|John Smith|  30|     1|\n",
      "| Bob Smith|  35|    25|\n",
      "|       Tom|NULL|     3|\n",
      "+----------+----+------+\n",
      "\n",
      "root\n",
      " |-- name: string (nullable = true)\n",
      " |-- age_str: string (nullable = true)\n",
      "\n"
     ]
    }
   ],
   "source": [
    "dataframe1.orderBy(col(\"age\").asc_nulls_last()).show() \n",
    "dataframe_new = dataframe1.select(\"name\", dataframe1[\"age\"].cast(StringType()).alias(\"age_str\"))   \n",
    "dataframe_new.printSchema()\n"
   ]
  },
  {
   "cell_type": "markdown",
   "id": "04604264-3136-4a5c-9507-0e9f72558900",
   "metadata": {},
   "source": [
    "### between(lowerBound, upperBound) - creates boolean values"
   ]
  },
  {
   "cell_type": "code",
   "execution_count": 43,
   "id": "620012a0-d84e-48ad-aa24-9302273ccdab",
   "metadata": {},
   "outputs": [
    {
     "name": "stdout",
     "output_type": "stream",
     "text": [
      "+----------+----------+------+\n",
      "|      name|sorted_age|salary|\n",
      "+----------+----------+------+\n",
      "|John Smith|        30|     1|\n",
      "|      Jane|        25|     2|\n",
      "| Bob Smith|        35|    25|\n",
      "|       Tom|      NULL|     3|\n",
      "+----------+----------+------+\n",
      "\n",
      "+----------+----------+------+\n",
      "|      name|sorted_age|salary|\n",
      "+----------+----------+------+\n",
      "|John Smith|        30|     1|\n",
      "| Bob Smith|        35|    25|\n",
      "+----------+----------+------+\n",
      "\n"
     ]
    }
   ],
   "source": [
    "dataframe2.show()\n",
    "df_filtered = dataframe2.filter(dataframe2[\"sorted_age\"].between(30, 40))\n",
    "df_filtered.show()"
   ]
  },
  {
   "cell_type": "code",
   "execution_count": 41,
   "id": "0d14540e-b725-4e78-a912-76fbe3ef29b2",
   "metadata": {},
   "outputs": [
    {
     "name": "stdout",
     "output_type": "stream",
     "text": [
      "+----------+----------+------+--------------+\n",
      "|      name|sorted_age|salary|is >30 and <40|\n",
      "+----------+----------+------+--------------+\n",
      "|John Smith|        30|     1|          true|\n",
      "|      Jane|        25|     2|         false|\n",
      "| Bob Smith|        35|    25|          true|\n",
      "|       Tom|      NULL|     3|          NULL|\n",
      "+----------+----------+------+--------------+\n",
      "\n"
     ]
    }
   ],
   "source": [
    "df_with_boolean = dataframe2.withColumn(\"is >30 and <40\", col(\"sorted_age\").between(30, 40))  \n",
    "df_with_boolean.show()"
   ]
  },
  {
   "cell_type": "code",
   "execution_count": 44,
   "id": "ff4fd01b-712f-4f6b-8eec-b847910d8fbc",
   "metadata": {},
   "outputs": [
    {
     "name": "stdout",
     "output_type": "stream",
     "text": [
      "+----+------------+\n",
      "|name|        info|\n",
      "+----+------------+\n",
      "|John|  {30, Male}|\n",
      "|Jane|{25, Female}|\n",
      "| Bob|  {35, Male}|\n",
      "+----+------------+\n",
      "\n"
     ]
    }
   ],
   "source": [
    "from pyspark.sql import SparkSession, Row\n",
    "from pyspark.sql.functions import col, when, lit\n",
    "from pyspark.sql.types import StructType, StructField, StringType, IntegerType\n",
    "\n",
    "data = [\n",
    "    (\"John\", (30, \"Male\")),\n",
    "    (\"Jane\", (25, \"Female\")),\n",
    "    (\"Bob\", (35, \"Male\"))\n",
    "]\n",
    "\n",
    "columns = StructType([       \n",
    "    StructField('name', StringType(), nullable=True),\n",
    "    StructField('info',StructType([\n",
    "             StructField('age', IntegerType(), True),\n",
    "             StructField('gender', StringType(), True)\n",
    "             ]))\n",
    "])\n",
    "dataframe_new = spark.createDataFrame(data, columns)\n",
    "\n",
    "dataframe_new.show()"
   ]
  },
  {
   "cell_type": "markdown",
   "id": "04571277-55f7-4cdb-93e1-de97c2118832",
   "metadata": {},
   "source": [
    "### getField(column_name) - getting column from the nested columns "
   ]
  },
  {
   "cell_type": "code",
   "execution_count": 46,
   "id": "c49ff78d-22bf-4311-aa8d-bead0444dfdf",
   "metadata": {},
   "outputs": [
    {
     "name": "stdout",
     "output_type": "stream",
     "text": [
      "+----+------------+---+\n",
      "|name|        info|age|\n",
      "+----+------------+---+\n",
      "|John|  {30, Male}| 30|\n",
      "|Jane|{25, Female}| 25|\n",
      "| Bob|  {35, Male}| 35|\n",
      "+----+------------+---+\n",
      "\n"
     ]
    }
   ],
   "source": [
    "df_with_age = dataframe_new.withColumn(\"age\", col(\"info\").getField(\"age\"))\n",
    "\n",
    "df_with_age.show()"
   ]
  },
  {
   "cell_type": "code",
   "execution_count": 47,
   "id": "b2d3e928-a360-446a-b6f5-d65386405c12",
   "metadata": {},
   "outputs": [
    {
     "name": "stdout",
     "output_type": "stream",
     "text": [
      "+----+------------+\n",
      "|name|        ages|\n",
      "+----+------------+\n",
      "|John|[30, 40, 50]|\n",
      "|Jane|    [25, 35]|\n",
      "| Bob|[35, 45, 55]|\n",
      "+----+------------+\n",
      "\n"
     ]
    }
   ],
   "source": [
    "data = [\n",
    "    (\"John\", [30, 40, 50]),\n",
    "    (\"Jane\", [25, 35]),\n",
    "    (\"Bob\", [35, 45, 55]),\n",
    "]\n",
    "\n",
    "columns = [\"name\", \"ages\"]\n",
    "df = spark.createDataFrame(data, columns)\n",
    "\n",
    "df.show()"
   ]
  },
  {
   "cell_type": "markdown",
   "id": "deeeac1d-fd9f-405b-a3dd-1bad46e6193a",
   "metadata": {},
   "source": [
    "### getItem"
   ]
  },
  {
   "cell_type": "code",
   "execution_count": 48,
   "id": "93aff630-b7d8-4a4e-b3d3-b44d7cda04ba",
   "metadata": {},
   "outputs": [
    {
     "name": "stdout",
     "output_type": "stream",
     "text": [
      "+----+------------+----------+\n",
      "|name|        ages|second_age|\n",
      "+----+------------+----------+\n",
      "|John|[30, 40, 50]|        50|\n",
      "|Jane|    [25, 35]|      NULL|\n",
      "| Bob|[35, 45, 55]|        55|\n",
      "+----+------------+----------+\n",
      "\n"
     ]
    }
   ],
   "source": [
    "df_with_second_age = df.withColumn(\"second_age\", col(\"ages\").getItem(2))\n",
    "df_with_second_age.show()"
   ]
  },
  {
   "cell_type": "markdown",
   "id": "d7525111-e2ea-42de-a002-c662d78aa9db",
   "metadata": {},
   "source": [
    "### isNull()"
   ]
  },
  {
   "cell_type": "code",
   "execution_count": 49,
   "id": "f6f94a45-d907-4986-a37a-353aacce9dc5",
   "metadata": {},
   "outputs": [
    {
     "name": "stdout",
     "output_type": "stream",
     "text": [
      "+----+--------+----------+\n",
      "|name|    ages|second_age|\n",
      "+----+--------+----------+\n",
      "|Jane|[25, 35]|      NULL|\n",
      "+----+--------+----------+\n",
      "\n"
     ]
    }
   ],
   "source": [
    "df_with_second_age.filter(df_with_second_age.second_age.isNull()).show()"
   ]
  },
  {
   "cell_type": "markdown",
   "id": "c665efdf-4312-4dfa-b9c9-515f142d668a",
   "metadata": {},
   "source": [
    "### isNotNull()"
   ]
  },
  {
   "cell_type": "code",
   "execution_count": 50,
   "id": "9b1a10f0-0fd4-45f5-9602-cda4a05a5c12",
   "metadata": {},
   "outputs": [
    {
     "name": "stdout",
     "output_type": "stream",
     "text": [
      "+----+------------+----------+\n",
      "|name|        ages|second_age|\n",
      "+----+------------+----------+\n",
      "|John|[30, 40, 50]|        50|\n",
      "| Bob|[35, 45, 55]|        55|\n",
      "+----+------------+----------+\n",
      "\n"
     ]
    }
   ],
   "source": [
    "df_with_second_age.filter(df_with_second_age.second_age.isNotNull()).show()"
   ]
  },
  {
   "cell_type": "code",
   "execution_count": 51,
   "id": "e1df65a8-36cf-4ffb-8d03-5e33b2a91cc1",
   "metadata": {},
   "outputs": [
    {
     "name": "stdout",
     "output_type": "stream",
     "text": [
      "+-----+---+--------------+\n",
      "| name|age|    occupation|\n",
      "+-----+---+--------------+\n",
      "| John| 30|Civil Engineer|\n",
      "| Jane| 25|       Teacher|\n",
      "|  Bob| 35|        Doctor|\n",
      "|Alice| 40|      Engineer|\n",
      "+-----+---+--------------+\n",
      "\n"
     ]
    }
   ],
   "source": [
    "data = [\n",
    "    (\"John\", 30, \"Civil Engineer\"),\n",
    "    (\"Jane\", 25, \"Teacher\"),\n",
    "    (\"Bob\", 35, \"Doctor\"),\n",
    "    (\"Alice\", 40, \"Engineer\"),\n",
    "]\n",
    "\n",
    "columns = [\"name\", \"age\", \"occupation\"]\n",
    "df = spark.createDataFrame(data, columns)\n",
    "\n",
    "df.show()"
   ]
  },
  {
   "cell_type": "markdown",
   "id": "00b341fc-7a74-400e-9df9-4890a745a2b3",
   "metadata": {},
   "source": [
    "### isin()"
   ]
  },
  {
   "cell_type": "code",
   "execution_count": 52,
   "id": "77affc30-29f7-4682-be74-95b10de98bef",
   "metadata": {},
   "outputs": [
    {
     "name": "stdout",
     "output_type": "stream",
     "text": [
      "+-----+---+----------+\n",
      "| name|age|occupation|\n",
      "+-----+---+----------+\n",
      "|  Bob| 35|    Doctor|\n",
      "|Alice| 40|  Engineer|\n",
      "+-----+---+----------+\n",
      "\n"
     ]
    }
   ],
   "source": [
    "df_filtered = df.filter(col(\"occupation\").isin([\"Engineer\", \"Doctor\"]))\n",
    "df_filtered.show()"
   ]
  },
  {
   "cell_type": "markdown",
   "id": "f7cdbaf7-f850-43a1-8469-32dbf51a4c03",
   "metadata": {},
   "source": [
    "### like()"
   ]
  },
  {
   "cell_type": "code",
   "execution_count": 54,
   "id": "d27d19cc-8517-4c55-8f1b-fb7d18f12be3",
   "metadata": {},
   "outputs": [
    {
     "name": "stdout",
     "output_type": "stream",
     "text": [
      "+-----+---+--------------+\n",
      "| name|age|    occupation|\n",
      "+-----+---+--------------+\n",
      "| John| 30|Civil Engineer|\n",
      "|Alice| 40|      Engineer|\n",
      "+-----+---+--------------+\n",
      "\n"
     ]
    }
   ],
   "source": [
    "df_filtered_ = df.filter(col(\"occupation\").like(\"%Engineer%\"))\n",
    "df_filtered_.show()"
   ]
  },
  {
   "cell_type": "markdown",
   "id": "8f8aac83-8c5b-4554-8d3c-fd9cb4f05d33",
   "metadata": {},
   "source": [
    "### rlike() - same as like"
   ]
  },
  {
   "cell_type": "code",
   "execution_count": 55,
   "id": "918eca06-fb9a-4b91-99ed-dacdb21baf5b",
   "metadata": {},
   "outputs": [
    {
     "name": "stdout",
     "output_type": "stream",
     "text": [
      "+----+---+----------+\n",
      "|name|age|occupation|\n",
      "+----+---+----------+\n",
      "|Jane| 25|   Teacher|\n",
      "| Bob| 35|    Doctor|\n",
      "+----+---+----------+\n",
      "\n"
     ]
    }
   ],
   "source": [
    "df_filtered = df.filter(col(\"occupation\").rlike(\"Doctor|Teacher\"))\n",
    "df_filtered.show()"
   ]
  },
  {
   "cell_type": "markdown",
   "id": "ee3f98f5-2ba1-4a7d-98d2-12f6343409ac",
   "metadata": {},
   "source": [
    "### when "
   ]
  },
  {
   "cell_type": "code",
   "execution_count": 57,
   "id": "deeb7317-1106-4760-a5c6-e539e5055b37",
   "metadata": {},
   "outputs": [
    {
     "name": "stdout",
     "output_type": "stream",
     "text": [
      "DataFrame with age category:\n",
      "+-----+---+--------------+------------+\n",
      "| name|age|    occupation|age_category|\n",
      "+-----+---+--------------+------------+\n",
      "| John| 30|Civil Engineer|       Adult|\n",
      "| Jane| 25|       Teacher|       Young|\n",
      "|  Bob| 35|        Doctor|       Adult|\n",
      "|Alice| 40|      Engineer|       Adult|\n",
      "+-----+---+--------------+------------+\n",
      "\n"
     ]
    }
   ],
   "source": [
    "df_with_category = df.withColumn(\"age_category\", \n",
    "                                  when(col(\"age\") < 30, \"Young\")\n",
    "                                  .when(col(\"age\") >= 30, \"Adult\")\n",
    "                                  .otherwise(\"Unknown\")\n",
    ")\n",
    "print(\"DataFrame with age category:\")\n",
    "df_with_category.show()"
   ]
  },
  {
   "cell_type": "markdown",
   "id": "1017bde3-b93b-4232-b898-85b848933a1f",
   "metadata": {},
   "source": [
    "### drop()"
   ]
  },
  {
   "cell_type": "code",
   "execution_count": 58,
   "id": "11bb28da-01ab-45dc-8043-1659ce90652b",
   "metadata": {},
   "outputs": [
    {
     "name": "stdout",
     "output_type": "stream",
     "text": [
      "+-----+--------------+\n",
      "| name|    occupation|\n",
      "+-----+--------------+\n",
      "| John|Civil Engineer|\n",
      "| Jane|       Teacher|\n",
      "|  Bob|        Doctor|\n",
      "|Alice|      Engineer|\n",
      "+-----+--------------+\n",
      "\n"
     ]
    }
   ],
   "source": [
    "df_without_age = df.drop(\"age\")\n",
    "df_without_age.show()"
   ]
  },
  {
   "cell_type": "code",
   "execution_count": 59,
   "id": "a96ede19-62e2-460f-8b31-733c98c0d951",
   "metadata": {},
   "outputs": [
    {
     "name": "stdout",
     "output_type": "stream",
     "text": [
      "+------+\n",
      "|     a|\n",
      "+------+\n",
      "|{1, 2}|\n",
      "+------+\n",
      "\n"
     ]
    }
   ],
   "source": [
    "df = spark.createDataFrame([Row(a=Row(b=1, c=2))])\n",
    "df.show()"
   ]
  },
  {
   "cell_type": "code",
   "execution_count": 60,
   "id": "8fea722d-27f0-488e-9562-2df1d7823c8e",
   "metadata": {},
   "outputs": [
    {
     "name": "stdout",
     "output_type": "stream",
     "text": [
      "+---+\n",
      "|  b|\n",
      "+---+\n",
      "|  3|\n",
      "+---+\n",
      "\n"
     ]
    }
   ],
   "source": [
    "df.withColumn('a', df['a'].withField('b', lit(3))).select('a.b').show()"
   ]
  },
  {
   "cell_type": "code",
   "execution_count": null,
   "id": "4969fdc4-ca95-4069-a3cb-f6098632ebd3",
   "metadata": {},
   "outputs": [],
   "source": []
  }
 ],
 "metadata": {
  "kernelspec": {
   "display_name": "Python 3 (ipykernel)",
   "language": "python",
   "name": "python3"
  },
  "language_info": {
   "codemirror_mode": {
    "name": "ipython",
    "version": 3
   },
   "file_extension": ".py",
   "mimetype": "text/x-python",
   "name": "python",
   "nbconvert_exporter": "python",
   "pygments_lexer": "ipython3",
   "version": "3.11.6"
  }
 },
 "nbformat": 4,
 "nbformat_minor": 5
}
