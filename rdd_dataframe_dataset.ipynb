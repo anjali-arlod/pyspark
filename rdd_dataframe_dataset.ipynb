{
 "cells": [
  {
   "cell_type": "code",
   "execution_count": 4,
   "id": "cee265b6-50f0-48b9-b838-f2d6bb180958",
   "metadata": {},
   "outputs": [],
   "source": [
    "from  pyspark.sql import SparkSession\n",
    "from pyspark.sql.types import  IntegerType, StructType, StructField, StringType\n",
    "from pyspark.sql.functions import avg\n",
    "spark = SparkSession.builder\\\n",
    "      .master(\"local[1]\")\\\n",
    "      .appName(\"RDD_DATAFRAME_DATASET\")\\\n",
    "      .getOrCreate()    "
   ]
  },
  {
   "cell_type": "markdown",
   "id": "5428a685-1d7a-4330-b059-f48bf162d9d1",
   "metadata": {},
   "source": [
    "### RDD"
   ]
  },
  {
   "cell_type": "code",
   "execution_count": 5,
   "id": "f41fa3cd-b6f1-41a3-b642-6958550321ee",
   "metadata": {},
   "outputs": [],
   "source": [
    "myschema = StructType([StructField(\"name\", StringType(),True), StructField(\"age\", IntegerType(),True)])\n",
    "data = [(\"Tom\", 30),(\"Jerry\", 20), (\"Jack\", 35), (\"Tom\", 29)]\n",
    "dataRDD = spark.sparkContext.parallelize(data)"
   ]
  },
  {
   "cell_type": "code",
   "execution_count": 6,
   "id": "4d69da93-b400-4bd6-9c9c-0fb3c35fe460",
   "metadata": {},
   "outputs": [
    {
     "data": {
      "text/plain": [
       "[('Tom', 29.5), ('Jerry', 20.0), ('Jack', 35.0)]"
      ]
     },
     "execution_count": 6,
     "metadata": {},
     "output_type": "execute_result"
    }
   ],
   "source": [
    "## for grouping and averaging RDD \n",
    "\n",
    "agesRDD = (dataRDD.map(lambda x:(x[0], (x[1], 1))).reduceByKey(lambda x, y:(x[0]+y[0], x[1]+y[1])).map(lambda x: (x[0], x[1][0]/x[1][1])))\n",
    "agesRDD.collect()"
   ]
  },
  {
   "cell_type": "code",
   "execution_count": 7,
   "id": "17dcd3a3-54fa-494c-b180-0c9c29b72780",
   "metadata": {},
   "outputs": [
    {
     "name": "stdout",
     "output_type": "stream",
     "text": [
      "Original RDD\n"
     ]
    },
    {
     "data": {
      "text/plain": [
       "['Project',\n",
       " 'Gutenberg’s',\n",
       " 'Alice’s',\n",
       " 'Adventures',\n",
       " 'in',\n",
       " 'Wonderland',\n",
       " 'Project',\n",
       " 'Gutenberg’s',\n",
       " 'Adventures',\n",
       " 'in',\n",
       " 'Wonderland',\n",
       " 'Project',\n",
       " 'Gutenberg’s']"
      ]
     },
     "execution_count": 7,
     "metadata": {},
     "output_type": "execute_result"
    }
   ],
   "source": [
    "data = [\"Project\",\"Gutenberg’s\",\"Alice’s\",\"Adventures\",\n",
    "\"in\",\"Wonderland\",\"Project\",\"Gutenberg’s\",\"Adventures\",\n",
    "\"in\",\"Wonderland\",\"Project\",\"Gutenberg’s\"]\n",
    "\n",
    "rdd=spark.sparkContext.parallelize(data)\n",
    "print(\"Original RDD\")\n",
    "rdd.collect()"
   ]
  },
  {
   "cell_type": "markdown",
   "id": "ed23ab06-a4c6-46d0-918a-68a1db3c288c",
   "metadata": {},
   "source": [
    "### DATAFRAME"
   ]
  },
  {
   "cell_type": "code",
   "execution_count": 20,
   "id": "6729f763-559d-4a70-bcb4-a5fefcb07f8d",
   "metadata": {},
   "outputs": [],
   "source": [
    "dataDF= spark.createDataFrame(data, myschema)"
   ]
  },
  {
   "cell_type": "code",
   "execution_count": 21,
   "id": "7e8336e2-4844-4435-91dd-45df8ebd00de",
   "metadata": {},
   "outputs": [],
   "source": [
    "averageDF = dataDF.groupBy(\"name\").agg(avg(\"age\"))"
   ]
  },
  {
   "cell_type": "code",
   "execution_count": 22,
   "id": "461eea74-09ec-401d-9347-9e16952d70db",
   "metadata": {},
   "outputs": [
    {
     "name": "stdout",
     "output_type": "stream",
     "text": [
      "+-----+--------+\n",
      "| name|avg(age)|\n",
      "+-----+--------+\n",
      "| Jack|    35.0|\n",
      "|  Tom|    29.5|\n",
      "|Jerry|    20.0|\n",
      "+-----+--------+\n",
      "\n"
     ]
    }
   ],
   "source": [
    "averageDF.show()"
   ]
  },
  {
   "cell_type": "code",
   "execution_count": null,
   "id": "f3ad2dc1-bec4-47c3-aca5-c082ee1ed083",
   "metadata": {},
   "outputs": [],
   "source": []
  },
  {
   "cell_type": "markdown",
   "id": "a2a30507-8b3d-441f-a3c9-5178628b824d",
   "metadata": {},
   "source": [
    "### Dataset "
   ]
  },
  {
   "cell_type": "code",
   "execution_count": 25,
   "id": "bfd461f7-871a-45ae-8bb7-f155dd066eb5",
   "metadata": {},
   "outputs": [],
   "source": [
    "from pyspark.sql import Row\n",
    "row1 = Row(350, True, \"An apple a day keeps doctor away\", None)\n"
   ]
  },
  {
   "cell_type": "code",
   "execution_count": 26,
   "id": "7d0185d3-b5df-441b-82b6-cd8138991a1b",
   "metadata": {},
   "outputs": [
    {
     "data": {
      "text/plain": [
       "350"
      ]
     },
     "execution_count": 26,
     "metadata": {},
     "output_type": "execute_result"
    }
   ],
   "source": [
    "row[0]"
   ]
  },
  {
   "cell_type": "code",
   "execution_count": null,
   "id": "ee76c801-2c46-4fc2-b379-d5dd9848c7ca",
   "metadata": {},
   "outputs": [],
   "source": []
  }
 ],
 "metadata": {
  "kernelspec": {
   "display_name": "Python 3 (ipykernel)",
   "language": "python",
   "name": "python3"
  },
  "language_info": {
   "codemirror_mode": {
    "name": "ipython",
    "version": 3
   },
   "file_extension": ".py",
   "mimetype": "text/x-python",
   "name": "python",
   "nbconvert_exporter": "python",
   "pygments_lexer": "ipython3",
   "version": "3.11.6"
  }
 },
 "nbformat": 4,
 "nbformat_minor": 5
}
