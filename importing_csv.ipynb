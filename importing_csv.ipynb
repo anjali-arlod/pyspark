{
 "cells": [
  {
   "cell_type": "code",
   "execution_count": 2,
   "id": "e8a3c8e5-77a4-4ec7-bb58-718b85f2e808",
   "metadata": {},
   "outputs": [],
   "source": [
    "from pyspark.sql import SparkSession"
   ]
  },
  {
   "cell_type": "code",
   "execution_count": 3,
   "id": "cf381ce4-e347-4dfb-b75e-d6b3db29dab4",
   "metadata": {},
   "outputs": [],
   "source": [
    "spark = SparkSession.builder \\\n",
    "        .master(\"local[*]\") \\\n",
    "        .appName(\"IMPORTING_CSV\") \\\n",
    "        .getOrCreate()"
   ]
  },
  {
   "cell_type": "code",
   "execution_count": 4,
   "id": "33848656-94df-4474-b7fb-06d928612db9",
   "metadata": {},
   "outputs": [],
   "source": [
    "people = spark.read.format(\"csv\")\\\n",
    "        .option(\"path\", \"csv/sample.csv\")\\\n",
    "        .load()"
   ]
  },
  {
   "cell_type": "code",
   "execution_count": 5,
   "id": "ec6d5958-504f-42aa-b10d-49fc3266b7b9",
   "metadata": {},
   "outputs": [
    {
     "name": "stdout",
     "output_type": "stream",
     "text": [
      "+---+--------------------+------------------+---+-------+------+-----+-------+--------------------+----+\n",
      "|_c0|                 _c1|               _c2|_c3|    _c4|   _c5|  _c6|    _c7|                 _c8| _c9|\n",
      "+---+--------------------+------------------+---+-------+------+-----+-------+--------------------+----+\n",
      "|  1|Eldon Base for st...|Muhammed MacIntyre|  3|-213.25| 38.94|   35|Nunavut|Storage & Organiz...| 0.8|\n",
      "|  2|\"1.7 Cubic Foot C...|      Barry French|293| 457.81|208.16|68.02|Nunavut|          Appliances|0.58|\n",
      "|  3|Cardinal Slant-D�...|      Barry French|293|  46.71|  8.69| 2.99|Nunavut|Binders and Binde...|0.39|\n",
      "|  4|                R380|     Clay Rozendal|483|1198.97|195.99| 3.99|Nunavut|Telephones and Co...|0.58|\n",
      "|  5|Holmes HEPA Air P...|    Carlos Soltero|515|  30.94| 21.78| 5.94|Nunavut|          Appliances| 0.5|\n",
      "|  6|G.E. Longer-Life ...|    Carlos Soltero|515|   4.43|  6.64| 4.95|Nunavut|  Office Furnishings|0.37|\n",
      "|  7|Angle-D Binders w...|      Carl Jackson|613| -54.04|   7.3| 7.72|Nunavut|Binders and Binde...|0.38|\n",
      "|  8|SAFCO Mobile Desk...|      Carl Jackson|613| 127.70| 42.76| 6.22|Nunavut|Storage & Organiz...|NULL|\n",
      "|  9|SAFCO Commercial ...|    Monica Federle|643|-695.26|138.14|   35|Nunavut|Storage & Organiz...|NULL|\n",
      "| 10|           Xerox 198|   Dorothy Badders|678|-226.36|  4.98| 8.33|Nunavut|               Paper|0.38|\n",
      "+---+--------------------+------------------+---+-------+------+-----+-------+--------------------+----+\n",
      "\n"
     ]
    }
   ],
   "source": [
    "people.show()"
   ]
  },
  {
   "cell_type": "markdown",
   "id": "e6da194c-d3d4-41bf-bed9-009f5f147926",
   "metadata": {},
   "source": [
    "### here, it just creates DAG and instantiates the path of execution but not actual transformations, since it is lazily evaluated"
   ]
  },
  {
   "cell_type": "code",
   "execution_count": 6,
   "id": "b8132348-998c-4685-91c2-b452750e9a69",
   "metadata": {},
   "outputs": [],
   "source": [
    "output = people.select(people._c4).orderBy(people._c4) "
   ]
  },
  {
   "cell_type": "code",
   "execution_count": 7,
   "id": "4c92facd-a3f8-42d5-91c2-e399c0e59af6",
   "metadata": {},
   "outputs": [
    {
     "data": {
      "text/plain": [
       "10"
      ]
     },
     "execution_count": 7,
     "metadata": {},
     "output_type": "execute_result"
    }
   ],
   "source": [
    "output.count()f"
   ]
  },
  {
   "cell_type": "code",
   "execution_count": 8,
   "id": "bdce4fdc-cd1b-4eed-8cbc-7cee5171e1e0",
   "metadata": {},
   "outputs": [
    {
     "name": "stdout",
     "output_type": "stream",
     "text": [
      "+-------+\n",
      "|    _c4|\n",
      "+-------+\n",
      "|-213.25|\n",
      "|-226.36|\n",
      "| -54.04|\n",
      "|-695.26|\n",
      "|1198.97|\n",
      "| 127.70|\n",
      "|  30.94|\n",
      "|   4.43|\n",
      "| 457.81|\n",
      "|  46.71|\n",
      "+-------+\n",
      "\n"
     ]
    }
   ],
   "source": [
    "output.show()"
   ]
  },
  {
   "cell_type": "code",
   "execution_count": 11,
   "id": "cef0415b-ca9c-419a-8303-1a4115a778da",
   "metadata": {},
   "outputs": [],
   "source": [
    "## creating temporary view\n",
    "output.createOrReplaceTempView(\"peopless\")"
   ]
  },
  {
   "cell_type": "code",
   "execution_count": 13,
   "id": "f8b9bb3c-1827-4e0f-af3a-da9136025ea7",
   "metadata": {},
   "outputs": [
    {
     "name": "stdout",
     "output_type": "stream",
     "text": [
      "+-------+\n",
      "|    _c4|\n",
      "+-------+\n",
      "|-213.25|\n",
      "|-226.36|\n",
      "| -54.04|\n",
      "|-695.26|\n",
      "|1198.97|\n",
      "| 127.70|\n",
      "|  30.94|\n",
      "|   4.43|\n",
      "| 457.81|\n",
      "|  46.71|\n",
      "+-------+\n",
      "\n"
     ]
    }
   ],
   "source": [
    "spark.sql(\"select _c4 from peopless\").show()"
   ]
  },
  {
   "cell_type": "code",
   "execution_count": null,
   "id": "2c169844-4513-480f-a55c-1a871ee96ae9",
   "metadata": {},
   "outputs": [],
   "source": []
  }
 ],
 "metadata": {
  "kernelspec": {
   "display_name": "Python 3 (ipykernel)",
   "language": "python",
   "name": "python3"
  },
  "language_info": {
   "codemirror_mode": {
    "name": "ipython",
    "version": 3
   },
   "file_extension": ".py",
   "mimetype": "text/x-python",
   "name": "python",
   "nbconvert_exporter": "python",
   "pygments_lexer": "ipython3",
   "version": "3.11.6"
  }
 },
 "nbformat": 4,
 "nbformat_minor": 5
}
