{
 "cells": [
  {
   "cell_type": "code",
   "execution_count": 1,
   "id": "9cbdac38-9f36-4f75-b232-dbb0a0053345",
   "metadata": {},
   "outputs": [],
   "source": [
    "import pyspark\n",
    "from pyspark.sql import SparkSession\n",
    "\n",
    "spark = SparkSession.builder.appName('SCHEMAS').getOrCreate()\n"
   ]
  },
  {
   "cell_type": "markdown",
   "id": "7d79a4ea-9b27-424e-86f1-16f9ed5fe0f8",
   "metadata": {},
   "source": [
    "#### df.show( no.of columns to be shown(default=20), truncate=False(default=True -->> displays only 20 characters in the column value), vertical=True -->> shows df vertically))"
   ]
  },
  {
   "cell_type": "code",
   "execution_count": 16,
   "id": "c13bbd7a-5bee-4c56-9110-bc20bf42095d",
   "metadata": {},
   "outputs": [
    {
     "name": "stdout",
     "output_type": "stream",
     "text": [
      "+----------+-----------+---------+------+------+-------+\n",
      "|first_name|middle_name|last_name|    id|gender| salary|\n",
      "+----------+-----------+---------+------+------+-------+\n",
      "|     James|           |    Smith|030696|     M|  60000|\n",
      "|   Michael|       Rose|         |240298|     M|  70000|\n",
      "|    Robert|           | Williams|141294|      | 400000|\n",
      "|     Maria|       Anne|    Jones|230992|     F| 500000|\n",
      "|       Jen|       Mary|    Brown|      |     F|      0|\n",
      "|       Tom|      Jerry|         |230998|     M|1000000|\n",
      "+----------+-----------+---------+------+------+-------+\n",
      "\n",
      "root\n",
      " |-- first_name: string (nullable = true)\n",
      " |-- middle_name: string (nullable = true)\n",
      " |-- last_name: string (nullable = true)\n",
      " |-- id: string (nullable = true)\n",
      " |-- gender: string (nullable = true)\n",
      " |-- salary: long (nullable = true)\n",
      "\n"
     ]
    }
   ],
   "source": [
    "data = [(\"James\",\"\",\"Smith\",\"030696\",\"M\",60000),\n",
    "        (\"Michael\",\"Rose\",\"\",\"240298\",\"M\",70000),\n",
    "        (\"Robert\",\"\",\"Williams\",\"141294\",\"\",400000),\n",
    "        (\"Maria\",\"Anne\",\"Jones\",\"230992\",\"F\",500000),\n",
    "        (\"Jen\",\"Mary\",\"Brown\",\"\",\"F\",0),\n",
    "       (\"Tom\", \"Jerry\", \"\", \"230998\", 'M', 1000000)]\n",
    "\n",
    "columns = [\"first_name\",\"middle_name\",\"last_name\",\"id\",\"gender\",\"salary\"]\n",
    "df = spark.createDataFrame(data = data, schema = columns)\n",
    "# Default - displays 20 rows and 20 charactes from column value \n",
    "df.show()\n",
    "df.printSchema()"
   ]
  },
  {
   "cell_type": "code",
   "execution_count": 18,
   "id": "83e42bb8-0e44-49fe-859c-788610936d0b",
   "metadata": {},
   "outputs": [
    {
     "name": "stdout",
     "output_type": "stream",
     "text": [
      "root\n",
      " |-- name: struct (nullable = true)\n",
      " |    |-- firstname: string (nullable = true)\n",
      " |    |-- middlename: string (nullable = true)\n",
      " |    |-- lastname: string (nullable = true)\n",
      " |-- id: string (nullable = true)\n",
      " |-- gender: string (nullable = true)\n",
      " |-- salary: integer (nullable = true)\n",
      "\n",
      "+--------------------+------+------+-------+\n",
      "|name                |id    |gender|salary |\n",
      "+--------------------+------+------+-------+\n",
      "|{James, , Smith}    |030696|M     |60000  |\n",
      "|{Michael, Rose, }   |240298|M     |70000  |\n",
      "|{Robert, , Williams}|141294|      |400000 |\n",
      "|{Maria, Anne, Jones}|230992|F     |500000 |\n",
      "|{Jen, Mary, Brown}  |      |F     |0      |\n",
      "|{Tom, , Jerry}      |230998|M     |1000000|\n",
      "+--------------------+------+------+-------+\n",
      "\n"
     ]
    }
   ],
   "source": [
    "from pyspark.sql.types import StringType, StructType, StructField, IntegerType, ArrayType, MapType\n",
    "\n",
    "structureData = [\n",
    "        ((\"James\",\"\",\"Smith\"),\"030696\",\"M\",60000),\n",
    "        ((\"Michael\",\"Rose\",\"\"),\"240298\",\"M\",70000),\n",
    "        ((\"Robert\",\"\",\"Williams\"),\"141294\",\"\",400000),\n",
    "        ((\"Maria\",\"Anne\",\"Jones\"),\"230992\",\"F\",500000),\n",
    "        ((\"Jen\",\"Mary\",\"Brown\"),\"\",\"F\",0),\n",
    "        ((\"Tom\", \"\", \"Jerry\"), \"230998\", 'M', 1000000)\n",
    "  ]\n",
    "structureSchema = StructType([\n",
    "        StructField('name', StructType([\n",
    "             StructField('firstname', StringType(), True),\n",
    "             StructField('middlename', StringType(), True),\n",
    "             StructField('lastname', StringType(), True)\n",
    "             ])),\n",
    "         StructField('id', StringType(), True),\n",
    "         StructField('gender', StringType(), True),\n",
    "         StructField('salary', IntegerType(), True)\n",
    "         ])\n",
    "\n",
    "df2 = spark.createDataFrame(data=structureData,schema=structureSchema)\n",
    "df2.printSchema()\n",
    "df2.show(truncate=False)\n"
   ]
  },
  {
   "cell_type": "code",
   "execution_count": 28,
   "id": "d6bda6c4-2e68-4c4f-b487-2c02d45ca3e1",
   "metadata": {},
   "outputs": [
    {
     "name": "stdout",
     "output_type": "stream",
     "text": [
      "root\n",
      " |-- name: struct (nullable = true)\n",
      " |    |-- firstname: string (nullable = true)\n",
      " |    |-- middlename: string (nullable = true)\n",
      " |    |-- lastname: string (nullable = true)\n",
      " |-- OtherInfo: struct (nullable = false)\n",
      " |    |-- identifier: string (nullable = true)\n",
      " |    |-- gender: string (nullable = true)\n",
      " |    |-- salary: integer (nullable = true)\n",
      " |    |-- Salary_Grade: string (nullable = false)\n",
      "\n",
      "+--------------------+--------------------------+\n",
      "|name                |OtherInfo                 |\n",
      "+--------------------+--------------------------+\n",
      "|{James, , Smith}    |{030696, M, 60000, Low}   |\n",
      "|{Michael, Rose, }   |{240298, M, 70000, Low}   |\n",
      "|{Robert, , Williams}|{141294, , 400000, Medium}|\n",
      "|{Maria, Anne, Jones}|{230992, F, 500000, High} |\n",
      "|{Jen, Mary, Brown}  |{, F, 0, Low}             |\n",
      "|{Tom, , Jerry}      |{230998, M, 1000000, High}|\n",
      "+--------------------+--------------------------+\n",
      "\n"
     ]
    }
   ],
   "source": [
    "from pyspark.sql.functions import col,struct,when\n",
    "\n",
    "updatedDF = df2.withColumn(\"OtherInfo\", struct(col(\"id\").alias(\"identifier\"),\n",
    "                                               col(\"gender\").alias(\"gender\"),\n",
    "                                               col(\"salary\").alias(\"salary\"),\n",
    "                                        when(col(\"salary\").cast(IntegerType()) < 200000,\"Low\")       # adding a new column(\"Salary_Grade\") in \"otherInfo\" column  \n",
    "                                       .when(col(\"salary\").cast(IntegerType()) < 500000,\"Medium\")\n",
    "                                       .otherwise(\"High\").alias(\"Salary_Grade\"))\n",
    "                           ) \\\n",
    "                            .drop(\"id\",\"gender\",\"salary\")   \n",
    "\n",
    "updatedDF.printSchema()\n",
    "updatedDF.show(truncate=False)"
   ]
  },
  {
   "cell_type": "code",
   "execution_count": 32,
   "id": "509eaf01-f8b0-4a84-93d1-491246a7ea67",
   "metadata": {},
   "outputs": [
    {
     "name": "stdout",
     "output_type": "stream",
     "text": [
      "-RECORD 0---------------\n",
      " first_name  | James    \n",
      " middle_name |          \n",
      " last_name   | Smith    \n",
      " id          | 030696   \n",
      " gender      | M        \n",
      " salary      | 60000    \n",
      "-RECORD 1---------------\n",
      " first_name  | Michael  \n",
      " middle_name | Rose     \n",
      " last_name   |          \n",
      " id          | 240298   \n",
      " gender      | M        \n",
      " salary      | 70000    \n",
      "-RECORD 2---------------\n",
      " first_name  | Robert   \n",
      " middle_name |          \n",
      " last_name   | Williams \n",
      " id          | 141294   \n",
      " gender      |          \n",
      " salary      | 400000   \n",
      "only showing top 3 rows\n",
      "\n"
     ]
    }
   ],
   "source": [
    "df.show(n=3,truncate=25,vertical=True)"
   ]
  },
  {
   "cell_type": "code",
   "execution_count": 36,
   "id": "d99ef74c-acee-4226-82e6-20e5bb4eedee",
   "metadata": {},
   "outputs": [
    {
     "name": "stdout",
     "output_type": "stream",
     "text": [
      "+--------------------+---------------------+----------------------------------+\n",
      "|name                |hobbies              |properties                        |\n",
      "+--------------------+---------------------+----------------------------------+\n",
      "|{John, A, Doe}      |[reading, traveling] |{city -> New York, age -> 30}     |\n",
      "|{Jane, B, Smith}    |[coding, photography]|{city -> San Francisco, age -> 25}|\n",
      "|{Bob, NULL, Johnson}|[hiking, painting]   |{city -> Los Angeles, age -> 35}  |\n",
      "|{Alice, C, Williams}|[swimming, writing]  |{city -> Chicago, age -> 28}      |\n",
      "+--------------------+---------------------+----------------------------------+\n",
      "\n"
     ]
    }
   ],
   "source": [
    "structureData = [\n",
    "    ((\"John\", \"A\", \"Doe\"), [\"reading\", \"traveling\"], {\"age\": \"30\", \"city\": \"New York\"}),\n",
    "    ((\"Jane\", \"B\", \"Smith\"), [\"coding\", \"photography\"], {\"age\": \"25\", \"city\": \"San Francisco\"}),\n",
    "    ((\"Bob\", None, \"Johnson\"), [\"hiking\", \"painting\"], {\"age\": \"35\", \"city\": \"Los Angeles\"}),\n",
    "    ((\"Alice\", \"C\", \"Williams\"), [\"swimming\", \"writing\"], {\"age\": \"28\", \"city\": \"Chicago\"})\n",
    "]\n",
    "\n",
    "arrayStructureSchema = StructType([\n",
    "    StructField('name', StructType([\n",
    "       StructField('firstname', StringType(), True),\n",
    "       StructField('middlename', StringType(), True),\n",
    "       StructField('lastname', StringType(), True)\n",
    "       ])),\n",
    "       StructField('hobbies', ArrayType(StringType()), True),\n",
    "       StructField('properties', MapType(StringType(),StringType()), True)\n",
    "    ])\n",
    "\n",
    "df3 = spark.createDataFrame(data=structureData, schema=arrayStructureSchema)\n",
    "df3.show(truncate=False)"
   ]
  },
  {
   "cell_type": "markdown",
   "id": "6dbdc127-5f66-47b1-9816-f0ba95c3c18d",
   "metadata": {},
   "source": [
    "### schema using DDL - Data Definition Language (column_name type (if not null -->> NOT NULL), another_column_name ......)"
   ]
  },
  {
   "cell_type": "code",
   "execution_count": 74,
   "id": "4f6e9012-bb55-4264-9dce-275b9bf6f35b",
   "metadata": {},
   "outputs": [],
   "source": [
    "schema = 'author STRING, title STRING, pages INT NOT NULL'"
   ]
  },
  {
   "cell_type": "code",
   "execution_count": 80,
   "id": "8ba61643-5191-416d-be5f-294ab409f6ec",
   "metadata": {},
   "outputs": [
    {
     "name": "stdout",
     "output_type": "stream",
     "text": [
      "+------+----------------+-----+\n",
      "|author|           title|pages|\n",
      "+------+----------------+-----+\n",
      "| Bindu|Way in the Light|  200|\n",
      "|Anjali| Way in the Dark|  300|\n",
      "+------+----------------+-----+\n",
      "\n"
     ]
    }
   ],
   "source": [
    "sample_data = [\n",
    "    ('Bindu', 'Way in the Light', 200),\n",
    "    ('Anjali', 'Way in the Dark', 300)\n",
    "]\n",
    "\n",
    "df = spark.createDataFrame(data=sample_data, schema=schema)\n",
    "df.show()"
   ]
  },
  {
   "cell_type": "code",
   "execution_count": null,
   "id": "ac92ab06-731c-4338-9f6b-95abae54ee50",
   "metadata": {},
   "outputs": [],
   "source": []
  }
 ],
 "metadata": {
  "kernelspec": {
   "display_name": "Python 3 (ipykernel)",
   "language": "python",
   "name": "python3"
  },
  "language_info": {
   "codemirror_mode": {
    "name": "ipython",
    "version": 3
   },
   "file_extension": ".py",
   "mimetype": "text/x-python",
   "name": "python",
   "nbconvert_exporter": "python",
   "pygments_lexer": "ipython3",
   "version": "3.11.6"
  }
 },
 "nbformat": 4,
 "nbformat_minor": 5
}
