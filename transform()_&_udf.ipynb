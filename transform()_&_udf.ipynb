{
 "cells": [
  {
   "cell_type": "code",
   "execution_count": 98,
   "id": "bbf7dc14-5df5-4f06-9023-c50ec9a7742c",
   "metadata": {},
   "outputs": [],
   "source": [
    "import pyspark\n",
    "from pyspark.sql import SparkSession\n",
    "from pyspark.sql.functions import col, udf\n",
    "from pyspark.sql.types import StringType\n",
    "\n",
    "spark = SparkSession.builder.appName('UDFs_TRANFORM()').getOrCreate()\n"
   ]
  },
  {
   "cell_type": "code",
   "execution_count": 2,
   "id": "f78e7de6-e999-4c11-a28d-744a6dd735ef",
   "metadata": {},
   "outputs": [
    {
     "name": "stdout",
     "output_type": "stream",
     "text": [
      "+-----+------------+\n",
      "|Seqno|Name        |\n",
      "+-----+------------+\n",
      "|1    |john jones  |\n",
      "|2    |tracey smith|\n",
      "|3    |amy sanders |\n",
      "+-----+------------+\n",
      "\n"
     ]
    }
   ],
   "source": [
    "columns = [\"Seqno\",\"Name\"]\n",
    "data = [(\"1\", \"john jones\"),\n",
    "    (\"2\", \"tracey smith\"),\n",
    "    (\"3\", \"amy sanders\")]\n",
    "df = spark.createDataFrame(data=data,schema=columns)\n",
    "\n",
    "df.show(truncate=False)"
   ]
  },
  {
   "cell_type": "markdown",
   "id": "39cfc74d-8719-460b-a89c-9d7c141836e7",
   "metadata": {},
   "source": [
    "### Convertcase function for converting to udf"
   ]
  },
  {
   "cell_type": "code",
   "execution_count": 19,
   "id": "eb4b8c8d-4edf-4f39-b374-490eb9ee7254",
   "metadata": {},
   "outputs": [],
   "source": [
    "def convertCase(str):\n",
    "    resStr=\"\"\n",
    "    arr = str.split(\" \")\n",
    "    for x in arr:\n",
    "       resStr= resStr + x[0:1].upper() + x[1:len(x)] + \" \"\n",
    "    return resStr "
   ]
  },
  {
   "cell_type": "markdown",
   "id": "5678a38e-0337-422d-81c1-ee8d24e7fd2b",
   "metadata": {},
   "source": [
    "#### converting convertcase function to UDF"
   ]
  },
  {
   "cell_type": "code",
   "execution_count": 40,
   "id": "5bfcd73f-f77a-49b1-87a4-11f9d261f9d0",
   "metadata": {},
   "outputs": [],
   "source": [
    "convertUDF = udf(lambda z: convertCase(z), StringType())"
   ]
  },
  {
   "cell_type": "code",
   "execution_count": 41,
   "id": "54c6a1b5-4e5f-4939-b333-e114218656d5",
   "metadata": {},
   "outputs": [
    {
     "name": "stdout",
     "output_type": "stream",
     "text": [
      "+-----+------------+--------------+\n",
      "|Seqno|        Name|Converted Name|\n",
      "+-----+------------+--------------+\n",
      "|    1|  john jones|   John Jones |\n",
      "|    2|tracey smith| Tracey Smith |\n",
      "|    3| amy sanders|  Amy Sanders |\n",
      "+-----+------------+--------------+\n",
      "\n"
     ]
    }
   ],
   "source": [
    "converted_df = df.select(\"Seqno\",\"Name\",convertUDF(\"Name\").alias(\"Converted Name\"))\n",
    "converted_df.show()"
   ]
  },
  {
   "cell_type": "markdown",
   "id": "ec5ef08f-c575-4d62-9fb2-dafbcc27bb79",
   "metadata": {},
   "source": [
    "### Uppercase function for converting to udf"
   ]
  },
  {
   "cell_type": "code",
   "execution_count": 25,
   "id": "2d256d9a-eb73-4c8d-854f-05dc1ea8bd4d",
   "metadata": {},
   "outputs": [],
   "source": [
    "def upperCase(str):\n",
    "    return str.upper()"
   ]
  },
  {
   "cell_type": "markdown",
   "id": "2fb547bb-daba-44bc-95af-dda21e6887e6",
   "metadata": {},
   "source": [
    "#### converting uppercase function to udf"
   ]
  },
  {
   "cell_type": "code",
   "execution_count": 26,
   "id": "0117e29e-f7d5-494e-9673-51056a9a64cb",
   "metadata": {},
   "outputs": [],
   "source": [
    "upperCaseUDF = udf(lambda z:upperCase(z),StringType())    "
   ]
  },
  {
   "cell_type": "code",
   "execution_count": 29,
   "id": "44e6250d-74e4-486d-a023-560a042291e9",
   "metadata": {},
   "outputs": [
    {
     "name": "stdout",
     "output_type": "stream",
     "text": [
      "+-----+------------+--------------+-------------+\n",
      "|Seqno|Name        |Converted Name|Cureated Name|\n",
      "+-----+------------+--------------+-------------+\n",
      "|1    |john jones  |John Jones    |JOHN JONES   |\n",
      "|2    |tracey smith|Tracey Smith  |TRACEY SMITH |\n",
      "|3    |amy sanders |Amy Sanders   |AMY SANDERS  |\n",
      "+-----+------------+--------------+-------------+\n",
      "\n"
     ]
    }
   ],
   "source": [
    "converted_df.withColumn(\"Cureated Name\", upperCaseUDF(\"Name\")).show(truncate=False)"
   ]
  },
  {
   "cell_type": "markdown",
   "id": "2a7cc1a1-1772-4789-859c-a105eb0aaf7e",
   "metadata": {},
   "source": [
    "### Using UDF on SQL\n",
    "#### spark.udf.register( name_to_be_given_to_udf , function_name , return_type_from_function )"
   ]
  },
  {
   "cell_type": "code",
   "execution_count": 36,
   "id": "7f513fb7-e148-4707-95be-eec6990d0d01",
   "metadata": {},
   "outputs": [
    {
     "data": {
      "text/plain": [
       "<function __main__.convertCase(str)>"
      ]
     },
     "execution_count": 36,
     "metadata": {},
     "output_type": "execute_result"
    }
   ],
   "source": [
    "spark.udf.register(\"convertUDF\", convertCase, StringType())"
   ]
  },
  {
   "cell_type": "markdown",
   "id": "0bcf9e9a-4560-47bb-9776-b78c1b8835ed",
   "metadata": {},
   "source": [
    "### Creating a Temporary View of the df"
   ]
  },
  {
   "cell_type": "code",
   "execution_count": 43,
   "id": "9d850b05-f5f3-4b84-86d5-df08709422ca",
   "metadata": {},
   "outputs": [],
   "source": [
    "df.createOrReplaceTempView(\"NAME_TABLE\")"
   ]
  },
  {
   "cell_type": "code",
   "execution_count": 47,
   "id": "2434ef5e-85b3-42c5-b7a0-a1231b7c2d0b",
   "metadata": {},
   "outputs": [
    {
     "name": "stdout",
     "output_type": "stream",
     "text": [
      "+-----+-------------+\n",
      "|Seqno|Name         |\n",
      "+-----+-------------+\n",
      "|1    |John Jones   |\n",
      "|2    |Tracey Smith |\n",
      "|3    |Amy Sanders  |\n",
      "+-----+-------------+\n",
      "\n",
      "+-----+-----------+\n",
      "|Seqno|Name       |\n",
      "+-----+-----------+\n",
      "|1    |John Jones |\n",
      "+-----+-----------+\n",
      "\n"
     ]
    }
   ],
   "source": [
    "spark.sql(\"select Seqno, convertUDF(Name) as Name from NAME_TABLE\").show(truncate=False)\n",
    "     \n",
    "spark.sql(\"select Seqno, convertUDF(Name) as Name from NAME_TABLE and where Name is not null and convertUDF(Name) like '%John%'\").show(truncate=False)"
   ]
  },
  {
   "cell_type": "markdown",
   "id": "ec5f40a4-4b74-4576-864b-7a0a8351fc37",
   "metadata": {},
   "source": [
    "### null check"
   ]
  },
  {
   "cell_type": "code",
   "execution_count": 57,
   "id": "3ed2c6b5-9ae5-428d-b4a8-32468add7383",
   "metadata": {},
   "outputs": [
    {
     "name": "stdout",
     "output_type": "stream",
     "text": [
      "+-----+------------+\n",
      "|Seqno|Name        |\n",
      "+-----+------------+\n",
      "|1    |john jones  |\n",
      "|2    |tracey smith|\n",
      "|3    |amy sanders |\n",
      "|4    |NULL        |\n",
      "+-----+------------+\n",
      "\n"
     ]
    }
   ],
   "source": [
    "columns = [\"Seqno\",\"Name\"]\n",
    "data = [(\"1\", \"john jones\"),\n",
    "    (\"2\", \"tracey smith\"),\n",
    "    (\"3\", \"amy sanders\"),\n",
    "    ('4',None)]\n",
    "\n",
    "df2 = spark.createDataFrame(data=data,schema=columns)\n",
    "df2.show(truncate=False)\n",
    "df2.createOrReplaceTempView(\"NAME_TABLE2\")"
   ]
  },
  {
   "cell_type": "code",
   "execution_count": 62,
   "id": "c7ce8003-6cac-440f-a7b4-321bd18cc1b4",
   "metadata": {},
   "outputs": [
    {
     "data": {
      "text/plain": [
       "<function __main__.<lambda>(str)>"
      ]
     },
     "execution_count": 62,
     "metadata": {},
     "output_type": "execute_result"
    }
   ],
   "source": [
    "spark.udf.register(\"nullsafeUDF\", lambda str: convertCase(str) if not str is None else \"NULL IS HERE\" , StringType())"
   ]
  },
  {
   "cell_type": "code",
   "execution_count": 63,
   "id": "ba413114-13be-4d23-b9c1-dcca4b18eae1",
   "metadata": {},
   "outputs": [
    {
     "name": "stdout",
     "output_type": "stream",
     "text": [
      "+-----------------+\n",
      "|nullsafeUDF(Name)|\n",
      "+-----------------+\n",
      "|John Jones       |\n",
      "|Tracey Smith     |\n",
      "|Amy Sanders      |\n",
      "|NULL IS HERE     |\n",
      "+-----------------+\n",
      "\n",
      "+-----+-----------+\n",
      "|Seqno|Name       |\n",
      "+-----+-----------+\n",
      "|1    |John Jones |\n",
      "+-----+-----------+\n",
      "\n"
     ]
    }
   ],
   "source": [
    "spark.sql(\"select nullsafeUDF(Name) from NAME_TABLE2\").show(truncate=False)\n",
    "\n",
    "spark.sql(\"select Seqno, nullsafeUDF(Name) as Name from NAME_TABLE2 \" + \" where Name is not null and nullsafeUDF(Name) like '%John%'\").show(truncate=False) "
   ]
  },
  {
   "cell_type": "markdown",
   "id": "ff2a46bd-17a8-4a6a-817e-ac21270e6674",
   "metadata": {},
   "source": [
    "### transform() - without registering udfs, directly function is applied in transform()"
   ]
  },
  {
   "cell_type": "code",
   "execution_count": 74,
   "id": "3716c35b-31a2-4fa7-894b-94308e51f294",
   "metadata": {},
   "outputs": [
    {
     "name": "stdout",
     "output_type": "stream",
     "text": [
      "root\n",
      " |-- CourseName: string (nullable = true)\n",
      " |-- fee: long (nullable = true)\n",
      " |-- discount: long (nullable = true)\n",
      "\n",
      "+----------+----+--------+\n",
      "|CourseName|fee |discount|\n",
      "+----------+----+--------+\n",
      "|Java      |4000|5       |\n",
      "|Python    |4600|10      |\n",
      "|Scala     |4100|15      |\n",
      "|Scala     |4500|15      |\n",
      "|PHP       |3000|20      |\n",
      "+----------+----+--------+\n",
      "\n"
     ]
    }
   ],
   "source": [
    "simpleData = ((\"Java\",4000,5), \n",
    "    (\"Python\", 4600,10),  \n",
    "    (\"Scala\", 4100,15),   \n",
    "    (\"Scala\", 4500,15),   \n",
    "    (\"PHP\", 3000,20),  \n",
    "  )\n",
    "columns= [\"CourseName\", \"fee\", \"discount\"]\n",
    "\n",
    "df3 = spark.createDataFrame(data = simpleData, schema = columns)\n",
    "df3.printSchema()\n",
    "df3.show(truncate=False)"
   ]
  },
  {
   "cell_type": "code",
   "execution_count": 79,
   "id": "6ee1983e-c5b0-47c0-89f4-abb548342290",
   "metadata": {},
   "outputs": [],
   "source": [
    "from pyspark.sql.functions import upper\n",
    "\n",
    "def to_upper_str_columns(df):\n",
    "    return df.withColumn(\"CourseName_uppercase\",upper(df.CourseName))\n",
    "\n",
    "def reduce_price(df,reduceBy):\n",
    "    return df.withColumn(\"new_fee\",df.fee - reduceBy)\n",
    "\n",
    "def apply_discount(df):\n",
    "    return df.withColumn(\"discounted_fee\", df.new_fee - (df.new_fee * df.discount) / 100)"
   ]
  },
  {
   "cell_type": "code",
   "execution_count": 80,
   "id": "7c2b5504-d65c-43d1-8acb-cd9d3b29ffc9",
   "metadata": {},
   "outputs": [
    {
     "name": "stdout",
     "output_type": "stream",
     "text": [
      "+----------+----+--------+--------------------+-------+--------------+\n",
      "|CourseName|fee |discount|CourseName_uppercase|new_fee|discounted_fee|\n",
      "+----------+----+--------+--------------------+-------+--------------+\n",
      "|Java      |4000|5       |JAVA                |3000   |2850.0        |\n",
      "|Python    |4600|10      |PYTHON              |3600   |3240.0        |\n",
      "|Scala     |4100|15      |SCALA               |3100   |2635.0        |\n",
      "|Scala     |4500|15      |SCALA               |3500   |2975.0        |\n",
      "|PHP       |3000|20      |PHP                 |2000   |1600.0        |\n",
      "+----------+----+--------+--------------------+-------+--------------+\n",
      "\n"
     ]
    }
   ],
   "source": [
    "df4 = df3.transform(to_upper_str_columns).transform(reduce_price,1000).transform(apply_discount)\n",
    "df4.show(truncate=False)"
   ]
  },
  {
   "cell_type": "code",
   "execution_count": 81,
   "id": "853f01ca-b356-43d9-ba08-88c34c133c2a",
   "metadata": {},
   "outputs": [
    {
     "name": "stdout",
     "output_type": "stream",
     "text": [
      "root\n",
      " |-- Name: string (nullable = true)\n",
      " |-- Languages1: array (nullable = true)\n",
      " |    |-- element: string (containsNull = true)\n",
      " |-- Languages2: array (nullable = true)\n",
      " |    |-- element: string (containsNull = true)\n",
      "\n",
      "+----------------+------------------+---------------+\n",
      "|            Name|        Languages1|     Languages2|\n",
      "+----------------+------------------+---------------+\n",
      "|    James,,Smith|[Java, Scala, C++]|  [Spark, Java]|\n",
      "|   Michael,Rose,|[Spark, Java, C++]|  [Spark, Java]|\n",
      "|Robert,,Williams|      [CSharp, VB]|[Spark, Python]|\n",
      "+----------------+------------------+---------------+\n",
      "\n"
     ]
    }
   ],
   "source": [
    "data = [\n",
    " (\"James,,Smith\",[\"Java\",\"Scala\",\"C++\"],[\"Spark\",\"Java\"]),\n",
    " (\"Michael,Rose,\",[\"Spark\",\"Java\",\"C++\"],[\"Spark\",\"Java\"]),\n",
    " (\"Robert,,Williams\",[\"CSharp\",\"VB\"],[\"Spark\",\"Python\"])\n",
    "]\n",
    "df = spark.createDataFrame(data=data,schema=[\"Name\",\"Languages1\",\"Languages2\"])\n",
    "df.printSchema()\n",
    "df.show()"
   ]
  },
  {
   "cell_type": "markdown",
   "id": "3d374905-29c6-4e16-93b1-21d62b9026ee",
   "metadata": {},
   "source": [
    "### tranform() - another type of transform, functions are directly written in transform( columnn_name , function )"
   ]
  },
  {
   "cell_type": "code",
   "execution_count": 94,
   "id": "51a7d6b4-40ec-407e-9ee0-562b2ad38f6c",
   "metadata": {},
   "outputs": [
    {
     "name": "stdout",
     "output_type": "stream",
     "text": [
      "+------------------+\n",
      "|        languages1|\n",
      "+------------------+\n",
      "|[JAVA, SCALA, C++]|\n",
      "|[SPARK, JAVA, C++]|\n",
      "|      [CSHARP, VB]|\n",
      "+------------------+\n",
      "\n"
     ]
    }
   ],
   "source": [
    "from pyspark.sql.functions import upper\n",
    "from pyspark.sql.functions import transform\n",
    "\n",
    "new_df = df.select(transform(\"Languages1\", lambda x: upper(x)).alias(\"languages1\"))\n",
    "new_df.show()"
   ]
  },
  {
   "cell_type": "code",
   "execution_count": 97,
   "id": "d1abc559-f48d-4431-b813-b5f29e869479",
   "metadata": {},
   "outputs": [
    {
     "name": "stdout",
     "output_type": "stream",
     "text": [
      "+----------------+------------------+---------------+------------------+\n",
      "|            Name|        Languages1|     Languages2|         languages|\n",
      "+----------------+------------------+---------------+------------------+\n",
      "|    James,,Smith|[Java, Scala, C++]|  [Spark, Java]|[JAVA, SCALA, C++]|\n",
      "|   Michael,Rose,|[Spark, Java, C++]|  [Spark, Java]|[SPARK, JAVA, C++]|\n",
      "|Robert,,Williams|      [CSharp, VB]|[Spark, Python]|      [CSHARP, VB]|\n",
      "+----------------+------------------+---------------+------------------+\n",
      "\n"
     ]
    }
   ],
   "source": [
    "transformed_df = df.withColumn(\"languages\", transform(\"Languages1\", lambda x: upper(x)))\n",
    "transformed_df.show()"
   ]
  },
  {
   "cell_type": "code",
   "execution_count": null,
   "id": "13000035-7867-4dc4-8a26-ded854ab4258",
   "metadata": {},
   "outputs": [],
   "source": []
  },
  {
   "cell_type": "code",
   "execution_count": null,
   "id": "739635a9-fe2a-4758-a1f0-cbfd889ea367",
   "metadata": {},
   "outputs": [],
   "source": []
  }
 ],
 "metadata": {
  "kernelspec": {
   "display_name": "Python 3 (ipykernel)",
   "language": "python",
   "name": "python3"
  },
  "language_info": {
   "codemirror_mode": {
    "name": "ipython",
    "version": 3
   },
   "file_extension": ".py",
   "mimetype": "text/x-python",
   "name": "python",
   "nbconvert_exporter": "python",
   "pygments_lexer": "ipython3",
   "version": "3.11.6"
  }
 },
 "nbformat": 4,
 "nbformat_minor": 5
}
